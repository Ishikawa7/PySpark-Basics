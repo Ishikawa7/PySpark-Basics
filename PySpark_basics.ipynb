{
 "cells": [
  {
   "cell_type": "code",
   "execution_count": 1,
   "metadata": {},
   "outputs": [],
   "source": [
    "import pyspark\n",
    "from pyspark.sql import SparkSession\n",
    "import pandas as pd"
   ]
  },
  {
   "cell_type": "code",
   "execution_count": 2,
   "metadata": {},
   "outputs": [
    {
     "data": {
      "text/plain": [
       "pandas.core.frame.DataFrame"
      ]
     },
     "execution_count": 2,
     "metadata": {},
     "output_type": "execute_result"
    }
   ],
   "source": [
    "type(pd.read_csv('test1.csv'))"
   ]
  },
  {
   "cell_type": "code",
   "execution_count": 3,
   "metadata": {},
   "outputs": [
    {
     "name": "stdout",
     "output_type": "stream",
     "text": [
      "22/11/21 13:03:10 WARN Utils: Your hostname, davide-Inspiron-3891 resolves to a loopback address: 127.0.1.1; using 192.168.1.46 instead (on interface wlp0s20f3)\n",
      "22/11/21 13:03:10 WARN Utils: Set SPARK_LOCAL_IP if you need to bind to another address\n"
     ]
    },
    {
     "name": "stderr",
     "output_type": "stream",
     "text": [
      "Setting default log level to \"WARN\".\n",
      "To adjust logging level use sc.setLogLevel(newLevel). For SparkR, use setLogLevel(newLevel).\n"
     ]
    },
    {
     "name": "stdout",
     "output_type": "stream",
     "text": [
      "22/11/21 13:03:14 WARN NativeCodeLoader: Unable to load native-hadoop library for your platform... using builtin-java classes where applicable\n"
     ]
    },
    {
     "data": {
      "text/html": [
       "\n",
       "            <div>\n",
       "                <p><b>SparkSession - in-memory</b></p>\n",
       "                \n",
       "        <div>\n",
       "            <p><b>SparkContext</b></p>\n",
       "\n",
       "            <p><a href=\"http://192.168.1.46:4040\">Spark UI</a></p>\n",
       "\n",
       "            <dl>\n",
       "              <dt>Version</dt>\n",
       "                <dd><code>v3.3.1</code></dd>\n",
       "              <dt>Master</dt>\n",
       "                <dd><code>local[*]</code></dd>\n",
       "              <dt>AppName</dt>\n",
       "                <dd><code>Practise</code></dd>\n",
       "            </dl>\n",
       "        </div>\n",
       "        \n",
       "            </div>\n",
       "        "
      ],
      "text/plain": [
       "<pyspark.sql.session.SparkSession at 0x7f3c0b67b1c0>"
      ]
     },
     "execution_count": 3,
     "metadata": {},
     "output_type": "execute_result"
    }
   ],
   "source": [
    "# start the spark session\n",
    "spark=SparkSession.builder.appName('Practise').getOrCreate()\n",
    "spark"
   ]
  },
  {
   "cell_type": "code",
   "execution_count": 7,
   "metadata": {},
   "outputs": [
    {
     "name": "stdout",
     "output_type": "stream",
     "text": [
      "+----------+----+------+------+---+------+----+\n",
      "|total_bill| tip|   sex|smoker|day|  time|size|\n",
      "+----------+----+------+------+---+------+----+\n",
      "|     16.99|1.01|Female|    No|Sun|Dinner|   2|\n",
      "|     10.34|1.66|  Male|    No|Sun|Dinner|   3|\n",
      "|     21.01| 3.5|  Male|    No|Sun|Dinner|   3|\n",
      "|     23.68|3.31|  Male|    No|Sun|Dinner|   2|\n",
      "|     24.59|3.61|Female|    No|Sun|Dinner|   4|\n",
      "|      null|4.71|  Male|    No|Sun|Dinner|   4|\n",
      "|      8.77| 2.0|  Male|    No|Sun|Dinner|   2|\n",
      "|     26.88|3.12|  Male|    No|Sun|Dinner|   4|\n",
      "|     15.04|null|  Male|    No|Sun|Dinner|   2|\n",
      "|     14.78|3.23|  Male|    No|Sun|Dinner|   2|\n",
      "|     10.27|1.71|  Male|    No|Sun|Dinner|   2|\n",
      "|     35.26| 5.0|Female|    No|Sun|Dinner|   4|\n",
      "|     15.42|1.57|  Male|    No|Sun|Dinner|   2|\n",
      "|     18.43| 3.0|  Male|    No|Sun|Dinner|   4|\n",
      "|     14.83|3.02|Female|    No|Sun|Dinner|   2|\n",
      "|     21.58|3.92|  Male|    No|Sun|Dinner|   2|\n",
      "|     10.33|1.67|Female|    No|Sun|Dinner|   3|\n",
      "|     16.29|3.71|  Male|    No|Sun|Dinner|   3|\n",
      "|     16.97| 3.5|Female|    No|Sun|Dinner|   3|\n",
      "|     20.65|3.35|  Male|    No|Sat|Dinner|   3|\n",
      "+----------+----+------+------+---+------+----+\n",
      "only showing top 20 rows\n",
      "\n"
     ]
    }
   ],
   "source": [
    "## read the dataset\n",
    "df_pyspark=spark.read.option('header','true').csv('tips_with_nan.csv')\n",
    "df_pyspark.show()"
   ]
  },
  {
   "cell_type": "code",
   "execution_count": 8,
   "metadata": {},
   "outputs": [
    {
     "data": {
      "text/plain": [
       "pyspark.sql.dataframe.DataFrame"
      ]
     },
     "execution_count": 8,
     "metadata": {},
     "output_type": "execute_result"
    }
   ],
   "source": [
    "type(df_pyspark)"
   ]
  },
  {
   "cell_type": "code",
   "execution_count": 9,
   "metadata": {},
   "outputs": [
    {
     "name": "stdout",
     "output_type": "stream",
     "text": [
      "root\n",
      " |-- total_bill: string (nullable = true)\n",
      " |-- tip: string (nullable = true)\n",
      " |-- sex: string (nullable = true)\n",
      " |-- smoker: string (nullable = true)\n",
      " |-- day: string (nullable = true)\n",
      " |-- time: string (nullable = true)\n",
      " |-- size: string (nullable = true)\n",
      "\n"
     ]
    }
   ],
   "source": [
    "### Check the schema\n",
    "df_pyspark.printSchema()"
   ]
  },
  {
   "cell_type": "code",
   "execution_count": 10,
   "metadata": {},
   "outputs": [
    {
     "data": {
      "text/plain": [
       "[Row(total_bill='16.99', tip='1.01', sex='Female', smoker='No', day='Sun', time='Dinner', size='2'),\n",
       " Row(total_bill='10.34', tip='1.66', sex='Male', smoker='No', day='Sun', time='Dinner', size='3'),\n",
       " Row(total_bill='21.01', tip='3.5', sex='Male', smoker='No', day='Sun', time='Dinner', size='3'),\n",
       " Row(total_bill='23.68', tip='3.31', sex='Male', smoker='No', day='Sun', time='Dinner', size='2'),\n",
       " Row(total_bill='24.59', tip='3.61', sex='Female', smoker='No', day='Sun', time='Dinner', size='4')]"
      ]
     },
     "execution_count": 10,
     "metadata": {},
     "output_type": "execute_result"
    }
   ],
   "source": [
    "### Check head\n",
    "df_pyspark.head(5)"
   ]
  },
  {
   "cell_type": "code",
   "execution_count": 11,
   "metadata": {},
   "outputs": [
    {
     "name": "stdout",
     "output_type": "stream",
     "text": [
      "+----+------+\n",
      "| tip|   sex|\n",
      "+----+------+\n",
      "|1.01|Female|\n",
      "|1.66|  Male|\n",
      "| 3.5|  Male|\n",
      "|3.31|  Male|\n",
      "|3.61|Female|\n",
      "|4.71|  Male|\n",
      "| 2.0|  Male|\n",
      "|3.12|  Male|\n",
      "|null|  Male|\n",
      "|3.23|  Male|\n",
      "|1.71|  Male|\n",
      "| 5.0|Female|\n",
      "|1.57|  Male|\n",
      "| 3.0|  Male|\n",
      "|3.02|Female|\n",
      "|3.92|  Male|\n",
      "|1.67|Female|\n",
      "|3.71|  Male|\n",
      "| 3.5|Female|\n",
      "|3.35|  Male|\n",
      "+----+------+\n",
      "only showing top 20 rows\n",
      "\n"
     ]
    }
   ],
   "source": [
    "### Select columns with \"select\" funcion\n",
    "df_pyspark.select(['tip','sex']).show()"
   ]
  },
  {
   "cell_type": "code",
   "execution_count": 13,
   "metadata": {},
   "outputs": [
    {
     "name": "stdout",
     "output_type": "stream",
     "text": [
      "+----+------+\n",
      "| tip|   sex|\n",
      "+----+------+\n",
      "|1.01|Female|\n",
      "|1.66|  Male|\n",
      "| 3.5|  Male|\n",
      "|3.31|  Male|\n",
      "|3.61|Female|\n",
      "|4.71|  Male|\n",
      "| 2.0|  Male|\n",
      "|3.12|  Male|\n",
      "|null|  Male|\n",
      "|3.23|  Male|\n",
      "|1.71|  Male|\n",
      "| 5.0|Female|\n",
      "|1.57|  Male|\n",
      "| 3.0|  Male|\n",
      "|3.02|Female|\n",
      "|3.92|  Male|\n",
      "|1.67|Female|\n",
      "|3.71|  Male|\n",
      "| 3.5|Female|\n",
      "|3.35|  Male|\n",
      "+----+------+\n",
      "only showing top 20 rows\n",
      "\n"
     ]
    }
   ],
   "source": [
    "### Select columns in pandas fashion\n",
    "df_pyspark[['tip','sex']].show()"
   ]
  },
  {
   "cell_type": "code",
   "execution_count": 14,
   "metadata": {},
   "outputs": [
    {
     "data": {
      "text/plain": [
       "[('total_bill', 'string'),\n",
       " ('tip', 'string'),\n",
       " ('sex', 'string'),\n",
       " ('smoker', 'string'),\n",
       " ('day', 'string'),\n",
       " ('time', 'string'),\n",
       " ('size', 'string')]"
      ]
     },
     "execution_count": 14,
     "metadata": {},
     "output_type": "execute_result"
    }
   ],
   "source": [
    "### Check types\n",
    "df_pyspark.dtypes"
   ]
  },
  {
   "cell_type": "code",
   "execution_count": 15,
   "metadata": {},
   "outputs": [
    {
     "name": "stderr",
     "output_type": "stream",
     "text": [
      "                                                                                \r"
     ]
    },
    {
     "name": "stdout",
     "output_type": "stream",
     "text": [
      "+-------+-----------------+------------------+------+------+------+------------------+------------------+\n",
      "|summary|       total_bill|               tip|   sex|smoker|   day|              time|              size|\n",
      "+-------+-----------------+------------------+------+------+------+------------------+------------------+\n",
      "|  count|              235|               243|   244|   244|   244|               244|               238|\n",
      "|   mean|19.66893617021277| 3.008270042194093|  null|  null|  null|               3.0|2.5588235294117645|\n",
      "| stddev|8.975787476831304|1.3840532325373303|  null|  null|  null|1.0954451150103321|0.9472956635665357|\n",
      "|    min|            10.07|               1.0|Female|    No|Dinner|                 2|                 1|\n",
      "|    max|             9.94|              Male|   Yes|   Yes|  Thur|             Lunch|                 6|\n",
      "+-------+-----------------+------------------+------+------+------+------------------+------------------+\n",
      "\n"
     ]
    }
   ],
   "source": [
    "### describe spark dataframe, like pandas .describe()\n",
    "df_pyspark.describe().show()"
   ]
  },
  {
   "cell_type": "code",
   "execution_count": 16,
   "metadata": {},
   "outputs": [
    {
     "name": "stdout",
     "output_type": "stream",
     "text": [
      "+----------+----+------+------+---+------+----+-------------------+\n",
      "|total_bill| tip|   sex|smoker|day|  time|size|     tip_bill_ratio|\n",
      "+----------+----+------+------+---+------+----+-------------------+\n",
      "|     16.99|1.01|Female|    No|Sun|Dinner|   2|0.05944673337257211|\n",
      "|     10.34|1.66|  Male|    No|Sun|Dinner|   3|0.16054158607350097|\n",
      "|     21.01| 3.5|  Male|    No|Sun|Dinner|   3|0.16658733936220846|\n",
      "|     23.68|3.31|  Male|    No|Sun|Dinner|   2| 0.1397804054054054|\n",
      "|     24.59|3.61|Female|    No|Sun|Dinner|   4|0.14680764538430255|\n",
      "|      null|4.71|  Male|    No|Sun|Dinner|   4|               null|\n",
      "|      8.77| 2.0|  Male|    No|Sun|Dinner|   2|0.22805017103762829|\n",
      "|     26.88|3.12|  Male|    No|Sun|Dinner|   4|0.11607142857142858|\n",
      "|     15.04|null|  Male|    No|Sun|Dinner|   2|               null|\n",
      "|     14.78|3.23|  Male|    No|Sun|Dinner|   2| 0.2185385656292287|\n",
      "|     10.27|1.71|  Male|    No|Sun|Dinner|   2| 0.1665043816942551|\n",
      "|     35.26| 5.0|Female|    No|Sun|Dinner|   4|0.14180374361883155|\n",
      "|     15.42|1.57|  Male|    No|Sun|Dinner|   2|0.10181582360570687|\n",
      "|     18.43| 3.0|  Male|    No|Sun|Dinner|   4|0.16277807921866522|\n",
      "|     14.83|3.02|Female|    No|Sun|Dinner|   2|0.20364126770060686|\n",
      "|     21.58|3.92|  Male|    No|Sun|Dinner|   2|0.18164967562557924|\n",
      "|     10.33|1.67|Female|    No|Sun|Dinner|   3| 0.1616650532429816|\n",
      "|     16.29|3.71|  Male|    No|Sun|Dinner|   3|0.22774708410067526|\n",
      "|     16.97| 3.5|Female|    No|Sun|Dinner|   3|0.20624631703005306|\n",
      "|     20.65|3.35|  Male|    No|Sat|Dinner|   3|0.16222760290556903|\n",
      "+----------+----+------+------+---+------+----+-------------------+\n",
      "only showing top 20 rows\n",
      "\n"
     ]
    }
   ],
   "source": [
    "### Adding Columns in data frame\n",
    "df_pyspark=df_pyspark.withColumn('tip_bill_ratio',df_pyspark['tip']/df_pyspark['total_bill'])\n",
    "df_pyspark.show()"
   ]
  },
  {
   "cell_type": "code",
   "execution_count": 17,
   "metadata": {},
   "outputs": [
    {
     "name": "stdout",
     "output_type": "stream",
     "text": [
      "+----------+----+------+------+---+------+----+\n",
      "|total_bill| tip|   sex|smoker|day|  time|size|\n",
      "+----------+----+------+------+---+------+----+\n",
      "|     16.99|1.01|Female|    No|Sun|Dinner|   2|\n",
      "|     10.34|1.66|  Male|    No|Sun|Dinner|   3|\n",
      "|     21.01| 3.5|  Male|    No|Sun|Dinner|   3|\n",
      "|     23.68|3.31|  Male|    No|Sun|Dinner|   2|\n",
      "|     24.59|3.61|Female|    No|Sun|Dinner|   4|\n",
      "|      null|4.71|  Male|    No|Sun|Dinner|   4|\n",
      "|      8.77| 2.0|  Male|    No|Sun|Dinner|   2|\n",
      "|     26.88|3.12|  Male|    No|Sun|Dinner|   4|\n",
      "|     15.04|null|  Male|    No|Sun|Dinner|   2|\n",
      "|     14.78|3.23|  Male|    No|Sun|Dinner|   2|\n",
      "|     10.27|1.71|  Male|    No|Sun|Dinner|   2|\n",
      "|     35.26| 5.0|Female|    No|Sun|Dinner|   4|\n",
      "|     15.42|1.57|  Male|    No|Sun|Dinner|   2|\n",
      "|     18.43| 3.0|  Male|    No|Sun|Dinner|   4|\n",
      "|     14.83|3.02|Female|    No|Sun|Dinner|   2|\n",
      "|     21.58|3.92|  Male|    No|Sun|Dinner|   2|\n",
      "|     10.33|1.67|Female|    No|Sun|Dinner|   3|\n",
      "|     16.29|3.71|  Male|    No|Sun|Dinner|   3|\n",
      "|     16.97| 3.5|Female|    No|Sun|Dinner|   3|\n",
      "|     20.65|3.35|  Male|    No|Sat|Dinner|   3|\n",
      "+----------+----+------+------+---+------+----+\n",
      "only showing top 20 rows\n",
      "\n"
     ]
    }
   ],
   "source": [
    "### Drop the columns\n",
    "df_pyspark=df_pyspark.drop('tip_bill_ratio')\n",
    "df_pyspark.show()"
   ]
  },
  {
   "cell_type": "code",
   "execution_count": 18,
   "metadata": {},
   "outputs": [
    {
     "name": "stdout",
     "output_type": "stream",
     "text": [
      "+----------+----+------+------+--------+------+----+\n",
      "|total_bill| tip|   sex|smoker|week_day|  time|size|\n",
      "+----------+----+------+------+--------+------+----+\n",
      "|     16.99|1.01|Female|    No|     Sun|Dinner|   2|\n",
      "|     10.34|1.66|  Male|    No|     Sun|Dinner|   3|\n",
      "|     21.01| 3.5|  Male|    No|     Sun|Dinner|   3|\n",
      "|     23.68|3.31|  Male|    No|     Sun|Dinner|   2|\n",
      "|     24.59|3.61|Female|    No|     Sun|Dinner|   4|\n",
      "|      null|4.71|  Male|    No|     Sun|Dinner|   4|\n",
      "|      8.77| 2.0|  Male|    No|     Sun|Dinner|   2|\n",
      "|     26.88|3.12|  Male|    No|     Sun|Dinner|   4|\n",
      "|     15.04|null|  Male|    No|     Sun|Dinner|   2|\n",
      "|     14.78|3.23|  Male|    No|     Sun|Dinner|   2|\n",
      "|     10.27|1.71|  Male|    No|     Sun|Dinner|   2|\n",
      "|     35.26| 5.0|Female|    No|     Sun|Dinner|   4|\n",
      "|     15.42|1.57|  Male|    No|     Sun|Dinner|   2|\n",
      "|     18.43| 3.0|  Male|    No|     Sun|Dinner|   4|\n",
      "|     14.83|3.02|Female|    No|     Sun|Dinner|   2|\n",
      "|     21.58|3.92|  Male|    No|     Sun|Dinner|   2|\n",
      "|     10.33|1.67|Female|    No|     Sun|Dinner|   3|\n",
      "|     16.29|3.71|  Male|    No|     Sun|Dinner|   3|\n",
      "|     16.97| 3.5|Female|    No|     Sun|Dinner|   3|\n",
      "|     20.65|3.35|  Male|    No|     Sat|Dinner|   3|\n",
      "+----------+----+------+------+--------+------+----+\n",
      "only showing top 20 rows\n",
      "\n"
     ]
    }
   ],
   "source": [
    "### Rename column\n",
    "df_pyspark.withColumnRenamed('day','week_day').show()"
   ]
  },
  {
   "cell_type": "code",
   "execution_count": 19,
   "metadata": {},
   "outputs": [
    {
     "name": "stdout",
     "output_type": "stream",
     "text": [
      "+----------+----+------+------+---+------+----+\n",
      "|total_bill| tip|   sex|smoker|day|  time|size|\n",
      "+----------+----+------+------+---+------+----+\n",
      "|     16.99|1.01|Female|    No|Sun|Dinner|   2|\n",
      "|     10.34|1.66|  Male|    No|Sun|Dinner|   3|\n",
      "|     21.01| 3.5|  Male|    No|Sun|Dinner|   3|\n",
      "|     23.68|3.31|  Male|    No|Sun|Dinner|   2|\n",
      "|     24.59|3.61|Female|    No|Sun|Dinner|   4|\n",
      "|      8.77| 2.0|  Male|    No|Sun|Dinner|   2|\n",
      "|     26.88|3.12|  Male|    No|Sun|Dinner|   4|\n",
      "|     14.78|3.23|  Male|    No|Sun|Dinner|   2|\n",
      "|     10.27|1.71|  Male|    No|Sun|Dinner|   2|\n",
      "|     35.26| 5.0|Female|    No|Sun|Dinner|   4|\n",
      "|     15.42|1.57|  Male|    No|Sun|Dinner|   2|\n",
      "|     18.43| 3.0|  Male|    No|Sun|Dinner|   4|\n",
      "|     14.83|3.02|Female|    No|Sun|Dinner|   2|\n",
      "|     21.58|3.92|  Male|    No|Sun|Dinner|   2|\n",
      "|     10.33|1.67|Female|    No|Sun|Dinner|   3|\n",
      "|     16.29|3.71|  Male|    No|Sun|Dinner|   3|\n",
      "|     16.97| 3.5|Female|    No|Sun|Dinner|   3|\n",
      "|     20.65|3.35|  Male|    No|Sat|Dinner|   3|\n",
      "|     17.92|4.08|  Male|    No|Sat|Dinner|   2|\n",
      "|     20.29|2.75|Female|    No|Sat|Dinner|   2|\n",
      "+----------+----+------+------+---+------+----+\n",
      "only showing top 20 rows\n",
      "\n"
     ]
    }
   ],
   "source": [
    "### DROP NA\n",
    "### how = any\n",
    "df_pyspark.na.drop(how=\"any\").show()"
   ]
  },
  {
   "cell_type": "code",
   "execution_count": 21,
   "metadata": {},
   "outputs": [
    {
     "name": "stdout",
     "output_type": "stream",
     "text": [
      "+----------+----+------+------+---+------+----+\n",
      "|total_bill| tip|   sex|smoker|day|  time|size|\n",
      "+----------+----+------+------+---+------+----+\n",
      "|     16.99|1.01|Female|    No|Sun|Dinner|   2|\n",
      "|     10.34|1.66|  Male|    No|Sun|Dinner|   3|\n",
      "|     21.01| 3.5|  Male|    No|Sun|Dinner|   3|\n",
      "|     23.68|3.31|  Male|    No|Sun|Dinner|   2|\n",
      "|     24.59|3.61|Female|    No|Sun|Dinner|   4|\n",
      "|      null|4.71|  Male|    No|Sun|Dinner|   4|\n",
      "|      8.77| 2.0|  Male|    No|Sun|Dinner|   2|\n",
      "|     26.88|3.12|  Male|    No|Sun|Dinner|   4|\n",
      "|     15.04|null|  Male|    No|Sun|Dinner|   2|\n",
      "|     14.78|3.23|  Male|    No|Sun|Dinner|   2|\n",
      "|     10.27|1.71|  Male|    No|Sun|Dinner|   2|\n",
      "|     35.26| 5.0|Female|    No|Sun|Dinner|   4|\n",
      "|     15.42|1.57|  Male|    No|Sun|Dinner|   2|\n",
      "|     18.43| 3.0|  Male|    No|Sun|Dinner|   4|\n",
      "|     14.83|3.02|Female|    No|Sun|Dinner|   2|\n",
      "|     21.58|3.92|  Male|    No|Sun|Dinner|   2|\n",
      "|     10.33|1.67|Female|    No|Sun|Dinner|   3|\n",
      "|     16.29|3.71|  Male|    No|Sun|Dinner|   3|\n",
      "|     16.97| 3.5|Female|    No|Sun|Dinner|   3|\n",
      "|     20.65|3.35|  Male|    No|Sat|Dinner|   3|\n",
      "+----------+----+------+------+---+------+----+\n",
      "only showing top 20 rows\n",
      "\n"
     ]
    }
   ],
   "source": [
    "### DROP NA\n",
    "## threshold\n",
    "df_pyspark.na.drop(how=\"any\",thresh=2).show() # rows with a null value are kept"
   ]
  },
  {
   "cell_type": "code",
   "execution_count": 22,
   "metadata": {},
   "outputs": [
    {
     "name": "stdout",
     "output_type": "stream",
     "text": [
      "+----------+----+------+------+---+------+----+\n",
      "|total_bill| tip|   sex|smoker|day|  time|size|\n",
      "+----------+----+------+------+---+------+----+\n",
      "|     16.99|1.01|Female|    No|Sun|Dinner|   2|\n",
      "|     10.34|1.66|  Male|    No|Sun|Dinner|   3|\n",
      "|     21.01| 3.5|  Male|    No|Sun|Dinner|   3|\n",
      "|     23.68|3.31|  Male|    No|Sun|Dinner|   2|\n",
      "|     24.59|3.61|Female|    No|Sun|Dinner|   4|\n",
      "|      8.77| 2.0|  Male|    No|Sun|Dinner|   2|\n",
      "|     26.88|3.12|  Male|    No|Sun|Dinner|   4|\n",
      "|     15.04|null|  Male|    No|Sun|Dinner|   2|\n",
      "|     14.78|3.23|  Male|    No|Sun|Dinner|   2|\n",
      "|     10.27|1.71|  Male|    No|Sun|Dinner|   2|\n",
      "|     35.26| 5.0|Female|    No|Sun|Dinner|   4|\n",
      "|     15.42|1.57|  Male|    No|Sun|Dinner|   2|\n",
      "|     18.43| 3.0|  Male|    No|Sun|Dinner|   4|\n",
      "|     14.83|3.02|Female|    No|Sun|Dinner|   2|\n",
      "|     21.58|3.92|  Male|    No|Sun|Dinner|   2|\n",
      "|     10.33|1.67|Female|    No|Sun|Dinner|   3|\n",
      "|     16.29|3.71|  Male|    No|Sun|Dinner|   3|\n",
      "|     16.97| 3.5|Female|    No|Sun|Dinner|   3|\n",
      "|     20.65|3.35|  Male|    No|Sat|Dinner|   3|\n",
      "|     17.92|4.08|  Male|    No|Sat|Dinner|   2|\n",
      "+----------+----+------+------+---+------+----+\n",
      "only showing top 20 rows\n",
      "\n"
     ]
    }
   ],
   "source": [
    "### DROP NA\n",
    "## Subset\n",
    "df_pyspark.na.drop(how=\"any\",subset=['total_bill']).show() # rows with a null value on total_bill are discarded"
   ]
  },
  {
   "cell_type": "code",
   "execution_count": 28,
   "metadata": {},
   "outputs": [
    {
     "name": "stdout",
     "output_type": "stream",
     "text": [
      "+----------+-------+------+------+---+------+----+\n",
      "|total_bill|    tip|   sex|smoker|day|  time|size|\n",
      "+----------+-------+------+------+---+------+----+\n",
      "|     16.99|   1.01|Female|    No|Sun|Dinner|   2|\n",
      "|     10.34|   1.66|  Male|    No|Sun|Dinner|   3|\n",
      "|     21.01|    3.5|  Male|    No|Sun|Dinner|   3|\n",
      "|     23.68|   3.31|  Male|    No|Sun|Dinner|   2|\n",
      "|     24.59|   3.61|Female|    No|Sun|Dinner|   4|\n",
      "|   MISSING|   4.71|  Male|    No|Sun|Dinner|   4|\n",
      "|      8.77|    2.0|  Male|    No|Sun|Dinner|   2|\n",
      "|     26.88|   3.12|  Male|    No|Sun|Dinner|   4|\n",
      "|     15.04|MISSING|  Male|    No|Sun|Dinner|   2|\n",
      "|     14.78|   3.23|  Male|    No|Sun|Dinner|   2|\n",
      "|     10.27|   1.71|  Male|    No|Sun|Dinner|   2|\n",
      "|     35.26|    5.0|Female|    No|Sun|Dinner|   4|\n",
      "|     15.42|   1.57|  Male|    No|Sun|Dinner|   2|\n",
      "|     18.43|    3.0|  Male|    No|Sun|Dinner|   4|\n",
      "|     14.83|   3.02|Female|    No|Sun|Dinner|   2|\n",
      "|     21.58|   3.92|  Male|    No|Sun|Dinner|   2|\n",
      "|     10.33|   1.67|Female|    No|Sun|Dinner|   3|\n",
      "|     16.29|   3.71|  Male|    No|Sun|Dinner|   3|\n",
      "|     16.97|    3.5|Female|    No|Sun|Dinner|   3|\n",
      "|     20.65|   3.35|  Male|    No|Sat|Dinner|   3|\n",
      "+----------+-------+------+------+---+------+----+\n",
      "only showing top 20 rows\n",
      "\n"
     ]
    }
   ],
   "source": [
    "### Filling the Missing Values with zeros\n",
    "df_pyspark.na.fill(\"MISSING\",['total_bill','tip']).show()"
   ]
  },
  {
   "cell_type": "code",
   "execution_count": 36,
   "metadata": {},
   "outputs": [],
   "source": [
    "### impute missin values\n",
    "from pyspark.ml.feature import Imputer\n",
    "\n",
    "imputer = Imputer(\n",
    "    inputCols=['total_bill', 'tip', 'size'], \n",
    "    outputCols=[\"{}_imputed\".format(c) for c in ['total_bill', 'tip', 'size']]\n",
    "    ).setStrategy(\"median\")"
   ]
  },
  {
   "cell_type": "code",
   "execution_count": 30,
   "metadata": {},
   "outputs": [
    {
     "name": "stdout",
     "output_type": "stream",
     "text": [
      "root\n",
      " |-- total_bill: string (nullable = true)\n",
      " |-- tip: string (nullable = true)\n",
      " |-- sex: string (nullable = true)\n",
      " |-- smoker: string (nullable = true)\n",
      " |-- day: string (nullable = true)\n",
      " |-- time: string (nullable = true)\n",
      " |-- size: string (nullable = true)\n",
      "\n"
     ]
    }
   ],
   "source": [
    "df_pyspark.printSchema()"
   ]
  },
  {
   "cell_type": "code",
   "execution_count": 33,
   "metadata": {},
   "outputs": [
    {
     "name": "stdout",
     "output_type": "stream",
     "text": [
      "root\n",
      " |-- total_bill: float (nullable = true)\n",
      " |-- tip: float (nullable = true)\n",
      " |-- sex: string (nullable = true)\n",
      " |-- smoker: string (nullable = true)\n",
      " |-- day: string (nullable = true)\n",
      " |-- time: string (nullable = true)\n",
      " |-- size: string (nullable = true)\n",
      "\n"
     ]
    }
   ],
   "source": [
    "#convert the city column data type into integer using int keyword\n",
    "df_pyspark = df_pyspark.withColumn(\"total_bill\",df_pyspark.total_bill.cast('float'))\n",
    "df_pyspark = df_pyspark.withColumn(\"tip\",df_pyspark.tip.cast('float'))\n",
    "df_pyspark.printSchema()"
   ]
  },
  {
   "cell_type": "code",
   "execution_count": 35,
   "metadata": {},
   "outputs": [],
   "source": [
    "df_pyspark = df_pyspark.withColumn(\"size\",df_pyspark.tip.cast('int'))"
   ]
  },
  {
   "cell_type": "code",
   "execution_count": 37,
   "metadata": {},
   "outputs": [
    {
     "name": "stdout",
     "output_type": "stream",
     "text": [
      "+----------+----+------+------+---+------+----+------------------+-----------+------------+\n",
      "|total_bill| tip|   sex|smoker|day|  time|size|total_bill_imputed|tip_imputed|size_imputed|\n",
      "+----------+----+------+------+---+------+----+------------------+-----------+------------+\n",
      "|     16.99|1.01|Female|    No|Sun|Dinner|   1|             16.99|       1.01|           1|\n",
      "|     10.34|1.66|  Male|    No|Sun|Dinner|   1|             10.34|       1.66|           1|\n",
      "|     21.01| 3.5|  Male|    No|Sun|Dinner|   3|             21.01|        3.5|           3|\n",
      "|     23.68|3.31|  Male|    No|Sun|Dinner|   3|             23.68|       3.31|           3|\n",
      "|     24.59|3.61|Female|    No|Sun|Dinner|   3|             24.59|       3.61|           3|\n",
      "|      null|4.71|  Male|    No|Sun|Dinner|   4|             17.51|       4.71|           4|\n",
      "|      8.77| 2.0|  Male|    No|Sun|Dinner|   2|              8.77|        2.0|           2|\n",
      "|     26.88|3.12|  Male|    No|Sun|Dinner|   3|             26.88|       3.12|           3|\n",
      "|     15.04|null|  Male|    No|Sun|Dinner|null|             15.04|        3.0|           3|\n",
      "|     14.78|3.23|  Male|    No|Sun|Dinner|   3|             14.78|       3.23|           3|\n",
      "|     10.27|1.71|  Male|    No|Sun|Dinner|   1|             10.27|       1.71|           1|\n",
      "|     35.26| 5.0|Female|    No|Sun|Dinner|   5|             35.26|        5.0|           5|\n",
      "|     15.42|1.57|  Male|    No|Sun|Dinner|   1|             15.42|       1.57|           1|\n",
      "|     18.43| 3.0|  Male|    No|Sun|Dinner|   3|             18.43|        3.0|           3|\n",
      "|     14.83|3.02|Female|    No|Sun|Dinner|   3|             14.83|       3.02|           3|\n",
      "|     21.58|3.92|  Male|    No|Sun|Dinner|   3|             21.58|       3.92|           3|\n",
      "|     10.33|1.67|Female|    No|Sun|Dinner|   1|             10.33|       1.67|           1|\n",
      "|     16.29|3.71|  Male|    No|Sun|Dinner|   3|             16.29|       3.71|           3|\n",
      "|     16.97| 3.5|Female|    No|Sun|Dinner|   3|             16.97|        3.5|           3|\n",
      "|     20.65|3.35|  Male|    No|Sat|Dinner|   3|             20.65|       3.35|           3|\n",
      "+----------+----+------+------+---+------+----+------------------+-----------+------------+\n",
      "only showing top 20 rows\n",
      "\n"
     ]
    }
   ],
   "source": [
    "# Add imputation cols to df\n",
    "imputer.fit(df_pyspark).transform(df_pyspark).show()"
   ]
  },
  {
   "cell_type": "code",
   "execution_count": 38,
   "metadata": {},
   "outputs": [
    {
     "name": "stdout",
     "output_type": "stream",
     "text": [
      "+----------+----+------+------+----+------+----+\n",
      "|total_bill| tip|   sex|smoker| day|  time|size|\n",
      "+----------+----+------+------+----+------+----+\n",
      "|     16.99|1.01|Female|    No| Sun|Dinner|   1|\n",
      "|     10.34|1.66|  Male|    No| Sun|Dinner|   1|\n",
      "|      8.77| 2.0|  Male|    No| Sun|Dinner|   2|\n",
      "|     10.27|1.71|  Male|    No| Sun|Dinner|   1|\n",
      "|     15.42|1.57|  Male|    No| Sun|Dinner|   1|\n",
      "|     10.33|1.67|Female|    No| Sun|Dinner|   1|\n",
      "|     13.37| 2.0|  Male|    No| Sat|Dinner|   2|\n",
      "|     12.69| 2.0|  Male|    No| Sat|Dinner|   2|\n",
      "|      9.55|1.45|  Male|    No| Sat|Dinner|   1|\n",
      "|     16.31| 2.0|  Male|    No| Sat|Dinner|   2|\n",
      "|      9.68|1.32|  Male|    No| Sun|Dinner|   1|\n",
      "|      9.94|1.56|  Male|    No| Sun|Dinner|   1|\n",
      "|     11.24|1.76|  Male|   Yes| Sat|Dinner|   1|\n",
      "|     13.81| 2.0|  Male|   Yes| Sat|Dinner|   2|\n",
      "|     11.02|1.98|  Male|   Yes| Sat|Dinner|   1|\n",
      "|      3.07| 1.0|Female|   Yes| Sat|Dinner|   1|\n",
      "|     12.02|1.97|  Male|    No| Sat|Dinner|   1|\n",
      "|     10.51|1.25|  Male|    No| Sat|Dinner|   1|\n",
      "|     10.07|1.83|Female|    No|Thur| Lunch|   1|\n",
      "|     13.03| 2.0|  Male|    No|Thur| Lunch|   2|\n",
      "+----------+----+------+------+----+------+----+\n",
      "only showing top 20 rows\n",
      "\n"
     ]
    }
   ],
   "source": [
    "### Tips less than or equal to 2\n",
    "df_pyspark.filter(df_pyspark['tip']<=2).show()"
   ]
  },
  {
   "cell_type": "code",
   "execution_count": 39,
   "metadata": {},
   "outputs": [
    {
     "name": "stdout",
     "output_type": "stream",
     "text": [
      "+----------+----+------+------+---+------+----+\n",
      "|total_bill| tip|   sex|smoker|day|  time|size|\n",
      "+----------+----+------+------+---+------+----+\n",
      "|     16.99|1.01|Female|    No|Sun|Dinner|   1|\n",
      "|     10.34|1.66|  Male|    No|Sun|Dinner|   1|\n",
      "|     21.01| 3.5|  Male|    No|Sun|Dinner|   3|\n",
      "|     23.68|3.31|  Male|    No|Sun|Dinner|   3|\n",
      "|     24.59|3.61|Female|    No|Sun|Dinner|   3|\n",
      "|      8.77| 2.0|  Male|    No|Sun|Dinner|   2|\n",
      "|     26.88|3.12|  Male|    No|Sun|Dinner|   3|\n",
      "|     15.04|null|  Male|    No|Sun|Dinner|null|\n",
      "|     10.27|1.71|  Male|    No|Sun|Dinner|   1|\n",
      "|     35.26| 5.0|Female|    No|Sun|Dinner|   5|\n",
      "|     15.42|1.57|  Male|    No|Sun|Dinner|   1|\n",
      "|     18.43| 3.0|  Male|    No|Sun|Dinner|   3|\n",
      "|     21.58|3.92|  Male|    No|Sun|Dinner|   3|\n",
      "|     10.33|1.67|Female|    No|Sun|Dinner|   1|\n",
      "|     16.29|3.71|  Male|    No|Sun|Dinner|   3|\n",
      "|     16.97| 3.5|Female|    No|Sun|Dinner|   3|\n",
      "|     20.65|3.35|  Male|    No|Sat|Dinner|   3|\n",
      "|     17.92|4.08|  Male|    No|Sat|Dinner|   4|\n",
      "|     20.29|2.75|Female|    No|Sat|Dinner|   2|\n",
      "|     15.77|2.23|Female|    No|Sat|Dinner|   2|\n",
      "+----------+----+------+------+---+------+----+\n",
      "only showing top 20 rows\n",
      "\n"
     ]
    }
   ],
   "source": [
    "### Tips less than or equal to 2\n",
    "### Total_bill greater that 15\n",
    "df_pyspark.filter((df_pyspark['tip']<=2) | \n",
    "                  (df_pyspark['total_bill']>=15)).show()"
   ]
  },
  {
   "cell_type": "code",
   "execution_count": 40,
   "metadata": {},
   "outputs": [
    {
     "name": "stdout",
     "output_type": "stream",
     "text": [
      "+------+------------------+-----------------+---------+\n",
      "|   sex|   sum(total_bill)|         sum(tip)|sum(size)|\n",
      "+------+------------------+-----------------+---------+\n",
      "|Female|1460.8900015354156|242.2599996328354|      218|\n",
      "|    No|  57.3799991607666|             null|     null|\n",
      "|   Yes|12.600000381469727|             null|     null|\n",
      "|  Male| 3091.329999446869| 470.700000166893|      427|\n",
      "+------+------------------+-----------------+---------+\n",
      "\n"
     ]
    }
   ],
   "source": [
    "## GRUOPBY\n",
    "### Grouped to find the maximum salary\n",
    "df_pyspark.groupBy('sex').sum().show()"
   ]
  },
  {
   "cell_type": "code",
   "execution_count": 41,
   "metadata": {},
   "outputs": [
    {
     "name": "stdout",
     "output_type": "stream",
     "text": [
      "+------+------------------+----------------+------------------+\n",
      "|   sex|   avg(total_bill)|        avg(tip)|         avg(size)|\n",
      "+------+------------------+----------------+------------------+\n",
      "|Female|17.815731726041655|2.85011764273924|2.5647058823529414|\n",
      "|    No|  19.1266663869222|            null|              null|\n",
      "|   Yes|12.600000381469727|            null|              null|\n",
      "|  Male|20.747181204341402|3.09671052741377|2.8092105263157894|\n",
      "+------+------------------+----------------+------------------+\n",
      "\n"
     ]
    }
   ],
   "source": [
    "df_pyspark.groupBy('sex').avg().show()"
   ]
  },
  {
   "cell_type": "code",
   "execution_count": 42,
   "metadata": {},
   "outputs": [
    {
     "name": "stdout",
     "output_type": "stream",
     "text": [
      "+------+------------------+------------------+---------+\n",
      "|  time|   sum(total_bill)|          sum(tip)|sum(size)|\n",
      "+------+------------------+------------------+---------+\n",
      "| Lunch|1133.7799973487854|178.75999975204468|      160|\n",
      "|Dinner| 3418.440003633499| 534.2000000476837|      485|\n",
      "|     4|17.809999465942383|              null|     null|\n",
      "|     2|52.170000076293945|              null|     null|\n",
      "+------+------------------+------------------+---------+\n",
      "\n"
     ]
    }
   ],
   "source": [
    "### Groupby time\n",
    "df_pyspark.groupBy('time').sum().show()"
   ]
  },
  {
   "cell_type": "code",
   "execution_count": 43,
   "metadata": {},
   "outputs": [
    {
     "name": "stdout",
     "output_type": "stream",
     "text": [
      "+------+------------------+------------------+------------------+\n",
      "|  time|   avg(total_bill)|          avg(tip)|         avg(size)|\n",
      "+------+------------------+------------------+------------------+\n",
      "| Lunch| 17.17848480831493|2.7084848447279497|2.4242424242424243|\n",
      "|Dinner| 20.71781820383939| 3.123976608465987|2.8362573099415203|\n",
      "|     4|17.809999465942383|              null|              null|\n",
      "|     2|17.390000025431316|              null|              null|\n",
      "+------+------------------+------------------+------------------+\n",
      "\n"
     ]
    }
   ],
   "source": [
    "df_pyspark.groupBy('time').mean().show()"
   ]
  },
  {
   "cell_type": "code",
   "execution_count": 44,
   "metadata": {},
   "outputs": [
    {
     "name": "stdout",
     "output_type": "stream",
     "text": [
      "+------+-----+\n",
      "|  time|count|\n",
      "+------+-----+\n",
      "| Lunch|   66|\n",
      "|Dinner|  172|\n",
      "|     4|    3|\n",
      "|     2|    3|\n",
      "+------+-----+\n",
      "\n"
     ]
    }
   ],
   "source": [
    "df_pyspark.groupBy('time').count().show()"
   ]
  }
 ],
 "metadata": {
  "kernelspec": {
   "display_name": "Python 3.8.10 64-bit",
   "language": "python",
   "name": "python3"
  },
  "language_info": {
   "codemirror_mode": {
    "name": "ipython",
    "version": 3
   },
   "file_extension": ".py",
   "mimetype": "text/x-python",
   "name": "python",
   "nbconvert_exporter": "python",
   "pygments_lexer": "ipython3",
   "version": "3.8.10"
  },
  "orig_nbformat": 4,
  "vscode": {
   "interpreter": {
    "hash": "916dbcbb3f70747c44a77c7bcd40155683ae19c65e1c03b4aa3499c5328201f1"
   }
  }
 },
 "nbformat": 4,
 "nbformat_minor": 2
}
